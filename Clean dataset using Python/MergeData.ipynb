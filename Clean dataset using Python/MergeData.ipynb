{
 "cells": [
  {
   "cell_type": "code",
   "execution_count": 1,
   "id": "0f063433-5578-4117-be41-476b413cc3d1",
   "metadata": {},
   "outputs": [],
   "source": [
    "import pandas as pd\n",
    "import numpy as np\n",
    "import matplotlib.pyplot as plt\n",
    "import seaborn as sna\n",
    "from datetime import datetime\n",
    "\n",
    "import warnings\n",
    "warnings.filterwarnings('ignore')"
   ]
  },
  {
   "cell_type": "code",
   "execution_count": 2,
   "id": "56ac11ab-1374-4931-b338-f94a31d97998",
   "metadata": {},
   "outputs": [],
   "source": [
    "df_tran = pd.read_excel('./KPMG_clean.xlsx', sheet_name=\"Transactions\")\n",
    "df_demo = pd.read_excel('./KPMG_clean.xlsx',sheet_name='CustomerDemographic')\n",
    "df_addr = pd.read_excel('./KPMG_clean.xlsx',sheet_name='CustomerAddress')"
   ]
  },
  {
   "cell_type": "code",
   "execution_count": 3,
   "id": "2f219fad-8b84-420c-8646-e649bf553ace",
   "metadata": {},
   "outputs": [],
   "source": [
    "# Merging the dataset usind customer id\n",
    "\n",
    "merge_df = pd.merge(df_demo, df_tran, on = 'customer_id', how = 'outer')\n",
    "merge_df = pd.merge(merge_df, df_addr, on = 'customer_id', how = 'outer')"
   ]
  },
  {
   "cell_type": "code",
   "execution_count": 4,
   "id": "942a7d54-6c6f-4637-9de4-2075d7d2535b",
   "metadata": {},
   "outputs": [],
   "source": [
    "merge_df.to_excel(\"merge_data.xlsx\", index = False)"
   ]
  },
  {
   "cell_type": "markdown",
   "id": "b88183ea-bf76-438d-a3e6-18d608644384",
   "metadata": {
    "tags": []
   },
   "source": [
    "## Loding the merge data for further analysis"
   ]
  },
  {
   "cell_type": "code",
   "execution_count": 5,
   "id": "ccefce80-85d9-4e5b-a7b3-1df060624f49",
   "metadata": {},
   "outputs": [],
   "source": [
    "df = pd.read_excel('./merge_data.xlsx')"
   ]
  },
  {
   "cell_type": "code",
   "execution_count": 6,
   "id": "caf08880-8333-4890-9f94-ce5399a26d3d",
   "metadata": {},
   "outputs": [
    {
     "data": {
      "text/html": [
       "<div>\n",
       "<style scoped>\n",
       "    .dataframe tbody tr th:only-of-type {\n",
       "        vertical-align: middle;\n",
       "    }\n",
       "\n",
       "    .dataframe tbody tr th {\n",
       "        vertical-align: top;\n",
       "    }\n",
       "\n",
       "    .dataframe thead th {\n",
       "        text-align: right;\n",
       "    }\n",
       "</style>\n",
       "<table border=\"1\" class=\"dataframe\">\n",
       "  <thead>\n",
       "    <tr style=\"text-align: right;\">\n",
       "      <th></th>\n",
       "      <th>0</th>\n",
       "      <th>1</th>\n",
       "      <th>2</th>\n",
       "      <th>3</th>\n",
       "      <th>4</th>\n",
       "    </tr>\n",
       "  </thead>\n",
       "  <tbody>\n",
       "    <tr>\n",
       "      <th>customer_id</th>\n",
       "      <td>1</td>\n",
       "      <td>1</td>\n",
       "      <td>1</td>\n",
       "      <td>1</td>\n",
       "      <td>1</td>\n",
       "    </tr>\n",
       "    <tr>\n",
       "      <th>first_name</th>\n",
       "      <td>Laraine</td>\n",
       "      <td>Laraine</td>\n",
       "      <td>Laraine</td>\n",
       "      <td>Laraine</td>\n",
       "      <td>Laraine</td>\n",
       "    </tr>\n",
       "    <tr>\n",
       "      <th>last_name</th>\n",
       "      <td>Medendorp</td>\n",
       "      <td>Medendorp</td>\n",
       "      <td>Medendorp</td>\n",
       "      <td>Medendorp</td>\n",
       "      <td>Medendorp</td>\n",
       "    </tr>\n",
       "    <tr>\n",
       "      <th>gender</th>\n",
       "      <td>Female</td>\n",
       "      <td>Female</td>\n",
       "      <td>Female</td>\n",
       "      <td>Female</td>\n",
       "      <td>Female</td>\n",
       "    </tr>\n",
       "    <tr>\n",
       "      <th>past_3_years_bike_related_purchases</th>\n",
       "      <td>93.0</td>\n",
       "      <td>93.0</td>\n",
       "      <td>93.0</td>\n",
       "      <td>93.0</td>\n",
       "      <td>93.0</td>\n",
       "    </tr>\n",
       "    <tr>\n",
       "      <th>DOB</th>\n",
       "      <td>1953-10-12 00:00:00</td>\n",
       "      <td>1953-10-12 00:00:00</td>\n",
       "      <td>1953-10-12 00:00:00</td>\n",
       "      <td>1953-10-12 00:00:00</td>\n",
       "      <td>1953-10-12 00:00:00</td>\n",
       "    </tr>\n",
       "    <tr>\n",
       "      <th>job_title</th>\n",
       "      <td>Executive Secretary</td>\n",
       "      <td>Executive Secretary</td>\n",
       "      <td>Executive Secretary</td>\n",
       "      <td>Executive Secretary</td>\n",
       "      <td>Executive Secretary</td>\n",
       "    </tr>\n",
       "    <tr>\n",
       "      <th>job_industry_category</th>\n",
       "      <td>Health</td>\n",
       "      <td>Health</td>\n",
       "      <td>Health</td>\n",
       "      <td>Health</td>\n",
       "      <td>Health</td>\n",
       "    </tr>\n",
       "    <tr>\n",
       "      <th>wealth_segment</th>\n",
       "      <td>Mass Customer</td>\n",
       "      <td>Mass Customer</td>\n",
       "      <td>Mass Customer</td>\n",
       "      <td>Mass Customer</td>\n",
       "      <td>Mass Customer</td>\n",
       "    </tr>\n",
       "    <tr>\n",
       "      <th>deceased_indicator</th>\n",
       "      <td>N</td>\n",
       "      <td>N</td>\n",
       "      <td>N</td>\n",
       "      <td>N</td>\n",
       "      <td>N</td>\n",
       "    </tr>\n",
       "    <tr>\n",
       "      <th>owns_car</th>\n",
       "      <td>Yes</td>\n",
       "      <td>Yes</td>\n",
       "      <td>Yes</td>\n",
       "      <td>Yes</td>\n",
       "      <td>Yes</td>\n",
       "    </tr>\n",
       "    <tr>\n",
       "      <th>tenure</th>\n",
       "      <td>11.0</td>\n",
       "      <td>11.0</td>\n",
       "      <td>11.0</td>\n",
       "      <td>11.0</td>\n",
       "      <td>11.0</td>\n",
       "    </tr>\n",
       "    <tr>\n",
       "      <th>transaction_id</th>\n",
       "      <td>94.0</td>\n",
       "      <td>3765.0</td>\n",
       "      <td>5157.0</td>\n",
       "      <td>9785.0</td>\n",
       "      <td>13424.0</td>\n",
       "    </tr>\n",
       "    <tr>\n",
       "      <th>product_id</th>\n",
       "      <td>86.0</td>\n",
       "      <td>38.0</td>\n",
       "      <td>47.0</td>\n",
       "      <td>72.0</td>\n",
       "      <td>2.0</td>\n",
       "    </tr>\n",
       "    <tr>\n",
       "      <th>transaction_date</th>\n",
       "      <td>2017-12-23 00:00:00</td>\n",
       "      <td>2017-04-06 00:00:00</td>\n",
       "      <td>2017-05-11 00:00:00</td>\n",
       "      <td>2017-01-05 00:00:00</td>\n",
       "      <td>2017-02-21 00:00:00</td>\n",
       "    </tr>\n",
       "    <tr>\n",
       "      <th>online_order</th>\n",
       "      <td>0.0</td>\n",
       "      <td>1.0</td>\n",
       "      <td>1.0</td>\n",
       "      <td>0.0</td>\n",
       "      <td>0.0</td>\n",
       "    </tr>\n",
       "    <tr>\n",
       "      <th>order_status</th>\n",
       "      <td>Approved</td>\n",
       "      <td>Approved</td>\n",
       "      <td>Approved</td>\n",
       "      <td>Approved</td>\n",
       "      <td>Approved</td>\n",
       "    </tr>\n",
       "    <tr>\n",
       "      <th>brand</th>\n",
       "      <td>OHM Cycles</td>\n",
       "      <td>Solex</td>\n",
       "      <td>Trek Bicycles</td>\n",
       "      <td>Norco Bicycles</td>\n",
       "      <td>Solex</td>\n",
       "    </tr>\n",
       "    <tr>\n",
       "      <th>product_line</th>\n",
       "      <td>Standard</td>\n",
       "      <td>Standard</td>\n",
       "      <td>Road</td>\n",
       "      <td>Standard</td>\n",
       "      <td>Standard</td>\n",
       "    </tr>\n",
       "    <tr>\n",
       "      <th>product_class</th>\n",
       "      <td>medium</td>\n",
       "      <td>medium</td>\n",
       "      <td>low</td>\n",
       "      <td>medium</td>\n",
       "      <td>medium</td>\n",
       "    </tr>\n",
       "    <tr>\n",
       "      <th>product_size</th>\n",
       "      <td>medium</td>\n",
       "      <td>medium</td>\n",
       "      <td>small</td>\n",
       "      <td>medium</td>\n",
       "      <td>medium</td>\n",
       "    </tr>\n",
       "    <tr>\n",
       "      <th>list_price</th>\n",
       "      <td>235.63</td>\n",
       "      <td>1577.53</td>\n",
       "      <td>1720.7</td>\n",
       "      <td>360.4</td>\n",
       "      <td>71.49</td>\n",
       "    </tr>\n",
       "    <tr>\n",
       "      <th>standard_cost</th>\n",
       "      <td>125.07</td>\n",
       "      <td>826.51</td>\n",
       "      <td>1531.42</td>\n",
       "      <td>270.3</td>\n",
       "      <td>53.62</td>\n",
       "    </tr>\n",
       "    <tr>\n",
       "      <th>Profit</th>\n",
       "      <td>110.56</td>\n",
       "      <td>751.02</td>\n",
       "      <td>189.28</td>\n",
       "      <td>90.1</td>\n",
       "      <td>17.87</td>\n",
       "    </tr>\n",
       "    <tr>\n",
       "      <th>product_first_sold_date</th>\n",
       "      <td>1970-01-01 00:00:00</td>\n",
       "      <td>1970-01-01 00:00:00</td>\n",
       "      <td>1970-01-01 00:00:00</td>\n",
       "      <td>1970-01-01 00:00:00</td>\n",
       "      <td>1970-01-01 00:00:00</td>\n",
       "    </tr>\n",
       "    <tr>\n",
       "      <th>address</th>\n",
       "      <td>060 Morning Avenue</td>\n",
       "      <td>060 Morning Avenue</td>\n",
       "      <td>060 Morning Avenue</td>\n",
       "      <td>060 Morning Avenue</td>\n",
       "      <td>060 Morning Avenue</td>\n",
       "    </tr>\n",
       "    <tr>\n",
       "      <th>postcode</th>\n",
       "      <td>2016.0</td>\n",
       "      <td>2016.0</td>\n",
       "      <td>2016.0</td>\n",
       "      <td>2016.0</td>\n",
       "      <td>2016.0</td>\n",
       "    </tr>\n",
       "    <tr>\n",
       "      <th>state</th>\n",
       "      <td>NSW</td>\n",
       "      <td>NSW</td>\n",
       "      <td>NSW</td>\n",
       "      <td>NSW</td>\n",
       "      <td>NSW</td>\n",
       "    </tr>\n",
       "    <tr>\n",
       "      <th>country</th>\n",
       "      <td>Australia</td>\n",
       "      <td>Australia</td>\n",
       "      <td>Australia</td>\n",
       "      <td>Australia</td>\n",
       "      <td>Australia</td>\n",
       "    </tr>\n",
       "    <tr>\n",
       "      <th>property_valuation</th>\n",
       "      <td>10.0</td>\n",
       "      <td>10.0</td>\n",
       "      <td>10.0</td>\n",
       "      <td>10.0</td>\n",
       "      <td>10.0</td>\n",
       "    </tr>\n",
       "  </tbody>\n",
       "</table>\n",
       "</div>"
      ],
      "text/plain": [
       "                                                       0                    1  \\\n",
       "customer_id                                            1                    1   \n",
       "first_name                                       Laraine              Laraine   \n",
       "last_name                                      Medendorp            Medendorp   \n",
       "gender                                            Female               Female   \n",
       "past_3_years_bike_related_purchases                 93.0                 93.0   \n",
       "DOB                                  1953-10-12 00:00:00  1953-10-12 00:00:00   \n",
       "job_title                            Executive Secretary  Executive Secretary   \n",
       "job_industry_category                             Health               Health   \n",
       "wealth_segment                             Mass Customer        Mass Customer   \n",
       "deceased_indicator                                     N                    N   \n",
       "owns_car                                             Yes                  Yes   \n",
       "tenure                                              11.0                 11.0   \n",
       "transaction_id                                      94.0               3765.0   \n",
       "product_id                                          86.0                 38.0   \n",
       "transaction_date                     2017-12-23 00:00:00  2017-04-06 00:00:00   \n",
       "online_order                                         0.0                  1.0   \n",
       "order_status                                    Approved             Approved   \n",
       "brand                                         OHM Cycles                Solex   \n",
       "product_line                                    Standard             Standard   \n",
       "product_class                                     medium               medium   \n",
       "product_size                                      medium               medium   \n",
       "list_price                                        235.63              1577.53   \n",
       "standard_cost                                     125.07               826.51   \n",
       "Profit                                            110.56               751.02   \n",
       "product_first_sold_date              1970-01-01 00:00:00  1970-01-01 00:00:00   \n",
       "address                               060 Morning Avenue   060 Morning Avenue   \n",
       "postcode                                          2016.0               2016.0   \n",
       "state                                                NSW                  NSW   \n",
       "country                                        Australia            Australia   \n",
       "property_valuation                                  10.0                 10.0   \n",
       "\n",
       "                                                       2                    3  \\\n",
       "customer_id                                            1                    1   \n",
       "first_name                                       Laraine              Laraine   \n",
       "last_name                                      Medendorp            Medendorp   \n",
       "gender                                            Female               Female   \n",
       "past_3_years_bike_related_purchases                 93.0                 93.0   \n",
       "DOB                                  1953-10-12 00:00:00  1953-10-12 00:00:00   \n",
       "job_title                            Executive Secretary  Executive Secretary   \n",
       "job_industry_category                             Health               Health   \n",
       "wealth_segment                             Mass Customer        Mass Customer   \n",
       "deceased_indicator                                     N                    N   \n",
       "owns_car                                             Yes                  Yes   \n",
       "tenure                                              11.0                 11.0   \n",
       "transaction_id                                    5157.0               9785.0   \n",
       "product_id                                          47.0                 72.0   \n",
       "transaction_date                     2017-05-11 00:00:00  2017-01-05 00:00:00   \n",
       "online_order                                         1.0                  0.0   \n",
       "order_status                                    Approved             Approved   \n",
       "brand                                      Trek Bicycles       Norco Bicycles   \n",
       "product_line                                        Road             Standard   \n",
       "product_class                                        low               medium   \n",
       "product_size                                       small               medium   \n",
       "list_price                                        1720.7                360.4   \n",
       "standard_cost                                    1531.42                270.3   \n",
       "Profit                                            189.28                 90.1   \n",
       "product_first_sold_date              1970-01-01 00:00:00  1970-01-01 00:00:00   \n",
       "address                               060 Morning Avenue   060 Morning Avenue   \n",
       "postcode                                          2016.0               2016.0   \n",
       "state                                                NSW                  NSW   \n",
       "country                                        Australia            Australia   \n",
       "property_valuation                                  10.0                 10.0   \n",
       "\n",
       "                                                       4  \n",
       "customer_id                                            1  \n",
       "first_name                                       Laraine  \n",
       "last_name                                      Medendorp  \n",
       "gender                                            Female  \n",
       "past_3_years_bike_related_purchases                 93.0  \n",
       "DOB                                  1953-10-12 00:00:00  \n",
       "job_title                            Executive Secretary  \n",
       "job_industry_category                             Health  \n",
       "wealth_segment                             Mass Customer  \n",
       "deceased_indicator                                     N  \n",
       "owns_car                                             Yes  \n",
       "tenure                                              11.0  \n",
       "transaction_id                                   13424.0  \n",
       "product_id                                           2.0  \n",
       "transaction_date                     2017-02-21 00:00:00  \n",
       "online_order                                         0.0  \n",
       "order_status                                    Approved  \n",
       "brand                                              Solex  \n",
       "product_line                                    Standard  \n",
       "product_class                                     medium  \n",
       "product_size                                      medium  \n",
       "list_price                                         71.49  \n",
       "standard_cost                                      53.62  \n",
       "Profit                                             17.87  \n",
       "product_first_sold_date              1970-01-01 00:00:00  \n",
       "address                               060 Morning Avenue  \n",
       "postcode                                          2016.0  \n",
       "state                                                NSW  \n",
       "country                                        Australia  \n",
       "property_valuation                                  10.0  "
      ]
     },
     "execution_count": 6,
     "metadata": {},
     "output_type": "execute_result"
    }
   ],
   "source": [
    "df.head().transpose()"
   ]
  },
  {
   "cell_type": "code",
   "execution_count": 7,
   "id": "89212aeb-8f8a-469c-aa3d-d2c4c7b050e5",
   "metadata": {},
   "outputs": [
    {
     "data": {
      "text/plain": [
       "(20332, 30)"
      ]
     },
     "execution_count": 7,
     "metadata": {},
     "output_type": "execute_result"
    }
   ],
   "source": [
    "# total no of rows and columns \n",
    "df.shape"
   ]
  },
  {
   "cell_type": "code",
   "execution_count": 8,
   "id": "98661e40-7698-42fa-a801-9964b2518201",
   "metadata": {},
   "outputs": [
    {
     "data": {
      "text/plain": [
       "customer_id                               0\n",
       "first_name                                6\n",
       "last_name                               654\n",
       "gender                                    6\n",
       "past_3_years_bike_related_purchases       6\n",
       "DOB                                     461\n",
       "job_title                              2468\n",
       "job_industry_category                  3307\n",
       "wealth_segment                            6\n",
       "deceased_indicator                        6\n",
       "owns_car                                  6\n",
       "tenure                                  461\n",
       "transaction_id                          511\n",
       "product_id                              511\n",
       "transaction_date                        511\n",
       "online_order                            865\n",
       "order_status                            511\n",
       "brand                                   707\n",
       "product_line                            707\n",
       "product_class                           707\n",
       "product_size                            707\n",
       "list_price                              511\n",
       "standard_cost                           707\n",
       "Profit                                  707\n",
       "product_first_sold_date                 707\n",
       "address                                  31\n",
       "postcode                                 31\n",
       "state                                    31\n",
       "country                                  31\n",
       "property_valuation                       31\n",
       "dtype: int64"
      ]
     },
     "execution_count": 8,
     "metadata": {},
     "output_type": "execute_result"
    }
   ],
   "source": [
    "df.isna().sum()"
   ]
  },
  {
   "cell_type": "code",
   "execution_count": 9,
   "id": "fea67513-dcb8-45ad-b4f2-a8c9b71527a9",
   "metadata": {},
   "outputs": [],
   "source": [
    "# droping the first name and last name column as it is nor imp\n",
    "\n",
    "df.drop(['first_name', 'last_name'], axis= 1, inplace=True)"
   ]
  },
  {
   "cell_type": "code",
   "execution_count": 10,
   "id": "8dc80b48-a6ba-4649-a3b9-f687e85bcadf",
   "metadata": {},
   "outputs": [],
   "source": [
    "# we are droping the NaN values from all the dataset\n",
    "df.dropna(inplace = True)"
   ]
  },
  {
   "cell_type": "code",
   "execution_count": 11,
   "id": "6757ada4-b1b4-4685-9c89-104c6785ed7e",
   "metadata": {},
   "outputs": [
    {
     "data": {
      "text/plain": [
       "customer_id                            0\n",
       "gender                                 0\n",
       "past_3_years_bike_related_purchases    0\n",
       "DOB                                    0\n",
       "job_title                              0\n",
       "job_industry_category                  0\n",
       "wealth_segment                         0\n",
       "deceased_indicator                     0\n",
       "owns_car                               0\n",
       "tenure                                 0\n",
       "transaction_id                         0\n",
       "product_id                             0\n",
       "transaction_date                       0\n",
       "online_order                           0\n",
       "order_status                           0\n",
       "brand                                  0\n",
       "product_line                           0\n",
       "product_class                          0\n",
       "product_size                           0\n",
       "list_price                             0\n",
       "standard_cost                          0\n",
       "Profit                                 0\n",
       "product_first_sold_date                0\n",
       "address                                0\n",
       "postcode                               0\n",
       "state                                  0\n",
       "country                                0\n",
       "property_valuation                     0\n",
       "dtype: int64"
      ]
     },
     "execution_count": 11,
     "metadata": {},
     "output_type": "execute_result"
    }
   ],
   "source": [
    "df.isna().sum()"
   ]
  },
  {
   "cell_type": "code",
   "execution_count": 12,
   "id": "14e96bbc-bdbe-418e-806f-d7ac2154cf28",
   "metadata": {},
   "outputs": [
    {
     "data": {
      "text/plain": [
       "(13926, 28)"
      ]
     },
     "execution_count": 12,
     "metadata": {},
     "output_type": "execute_result"
    }
   ],
   "source": [
    "# remaining total no. of rows and columns after dropping of the Nan values\n",
    "df.shape"
   ]
  },
  {
   "cell_type": "code",
   "execution_count": 13,
   "id": "06cd908d-15ff-4948-8dad-04310a3ba0e5",
   "metadata": {},
   "outputs": [
    {
     "data": {
      "text/plain": [
       "Index(['customer_id', 'gender', 'past_3_years_bike_related_purchases', 'DOB',\n",
       "       'job_title', 'job_industry_category', 'wealth_segment',\n",
       "       'deceased_indicator', 'owns_car', 'tenure', 'transaction_id',\n",
       "       'product_id', 'transaction_date', 'online_order', 'order_status',\n",
       "       'brand', 'product_line', 'product_class', 'product_size', 'list_price',\n",
       "       'standard_cost', 'Profit', 'product_first_sold_date', 'address',\n",
       "       'postcode', 'state', 'country', 'property_valuation'],\n",
       "      dtype='object')"
      ]
     },
     "execution_count": 13,
     "metadata": {},
     "output_type": "execute_result"
    }
   ],
   "source": [
    "df.columns"
   ]
  },
  {
   "cell_type": "code",
   "execution_count": 14,
   "id": "22ef7830-1818-4962-abdc-08c15a409333",
   "metadata": {},
   "outputs": [],
   "source": [
    "# to find out the current age of all the customers we will be adding the new column after DOB\n",
    "Age= datetime.now() - df.DOB\n",
    "\n",
    "df.insert(4,\"Age\",Age)"
   ]
  },
  {
   "cell_type": "code",
   "execution_count": 15,
   "id": "b2cb2c6f-a9a3-4a2f-8034-fdcd35783e4b",
   "metadata": {},
   "outputs": [],
   "source": [
    "# Extract the number of days from the 'Age' column\n",
    "df['Age'] = df['Age'].dt.days\n",
    "\n",
    "# Convert the number of days to years\n",
    "df['Age'] = (df['Age'] / 365.25).round()"
   ]
  },
  {
   "cell_type": "code",
   "execution_count": 16,
   "id": "936ab305-8a13-405b-a4fa-87a228dfbdd3",
   "metadata": {},
   "outputs": [],
   "source": [
    "# Changing the data type from float to int\n",
    "df.Age = df.Age.astype(int)"
   ]
  },
  {
   "cell_type": "code",
   "execution_count": 17,
   "id": "12c2d82d-60d2-471b-81c3-34f6dcbf8aa9",
   "metadata": {},
   "outputs": [],
   "source": [
    "# No human can be alive till the age of 179 so we are removing this age from the dataset\n",
    "df = df[df['Age']!=179]"
   ]
  },
  {
   "cell_type": "code",
   "execution_count": 18,
   "id": "b58f1560-ab99-4d99-a210-bd1ba9f458e2",
   "metadata": {},
   "outputs": [],
   "source": [
    "# removing the DOB column because now we are having the Age column\n",
    "df.drop(\"DOB\",axis =1, inplace = True)"
   ]
  },
  {
   "cell_type": "code",
   "execution_count": 19,
   "id": "d009e13b-71e6-44ca-8344-350955e44669",
   "metadata": {},
   "outputs": [
    {
     "data": {
      "text/plain": [
       "Social Worker                214\n",
       "Nuclear Power Engineer       193\n",
       "Chemical Engineer            189\n",
       "Internal Auditor             180\n",
       "Clinical Specialist          177\n",
       "                            ... \n",
       "Automation Specialist IV      10\n",
       "Office Assistant II            8\n",
       "Research Assistant III         8\n",
       "Developer I                    7\n",
       "Database Administrator II      5\n",
       "Name: job_title, Length: 195, dtype: int64"
      ]
     },
     "execution_count": 19,
     "metadata": {},
     "output_type": "execute_result"
    }
   ],
   "source": [
    "df.job_title.value_counts()"
   ]
  },
  {
   "cell_type": "code",
   "execution_count": 20,
   "id": "fbfa9289-683a-49cf-afe4-eb5965c0974a",
   "metadata": {},
   "outputs": [
    {
     "data": {
      "text/plain": [
       "0"
      ]
     },
     "execution_count": 20,
     "metadata": {},
     "output_type": "execute_result"
    }
   ],
   "source": [
    "df.job_title.isna().sum()"
   ]
  },
  {
   "cell_type": "code",
   "execution_count": 21,
   "id": "88b1dc7c-b9eb-4ad0-b450-45792be66705",
   "metadata": {},
   "outputs": [],
   "source": [
    "# removing the time stamp from the transaction_date column\n",
    "df.transaction_date = pd.to_datetime (df.transaction_date).dt.date"
   ]
  },
  {
   "cell_type": "code",
   "execution_count": 22,
   "id": "4cc50cdd-e65c-428e-857d-616fa41de092",
   "metadata": {},
   "outputs": [
    {
     "data": {
      "text/plain": [
       "10203    2017-12-30\n",
       "881      2017-12-30\n",
       "17730    2017-12-30\n",
       "1499     2017-12-30\n",
       "17765    2017-12-30\n",
       "            ...    \n",
       "9763     2017-01-01\n",
       "17361    2017-01-01\n",
       "17342    2017-01-01\n",
       "309      2017-01-01\n",
       "2129     2017-01-01\n",
       "Name: transaction_date, Length: 13918, dtype: object"
      ]
     },
     "execution_count": 22,
     "metadata": {},
     "output_type": "execute_result"
    }
   ],
   "source": [
    "df.transaction_date.sort_values(ascending=False)"
   ]
  },
  {
   "cell_type": "code",
   "execution_count": 23,
   "id": "58ab3097-9ee4-4b26-8227-0da2f12539bb",
   "metadata": {},
   "outputs": [],
   "source": [
    "# Above we can see that the most recent transaction happened on 2017-12-30 so we can add the new column name Current date \n",
    "# then we can subtract the current date and transaction date to get to know recently the product is sold\n",
    "\n",
    "df['Comparision_date'] = pd.to_datetime('2017-12-30')\n",
    "df.Comparision_date = pd.to_datetime(df.Comparision_date).dt.date\n",
    "\n",
    "recency = (df.Comparision_date - df.transaction_date).dt.days\n",
    "df.insert(12,'recency',recency)\n",
    "\n",
    "# Removing the comparision date\n",
    "df.drop(\"Comparision_date\", axis =1, inplace = True)"
   ]
  },
  {
   "cell_type": "code",
   "execution_count": 24,
   "id": "8a4863b5-e955-466a-94d6-95c0147709bc",
   "metadata": {},
   "outputs": [],
   "source": [
    "# removing the time stamp from the product_first_sold_date column\n",
    "df.product_first_sold_date = pd.to_datetime (df.product_first_sold_date).dt.date"
   ]
  },
  {
   "cell_type": "code",
   "execution_count": 25,
   "id": "ed32769a-438b-4487-b84e-a33127b226d3",
   "metadata": {},
   "outputs": [],
   "source": [
    "# Adding the new column transation month after transaction date for better understanding\n",
    "transaction_month = pd.to_datetime(df.transaction_date).dt.month_name()\n",
    "df.insert(14,\"transaction_month\", transaction_month)"
   ]
  },
  {
   "cell_type": "code",
   "execution_count": 26,
   "id": "71016d51-b759-4f24-8529-c7c0dc397f45",
   "metadata": {},
   "outputs": [
    {
     "data": {
      "text/plain": [
       "NSW    7363\n",
       "VIC    3475\n",
       "QLD    3080\n",
       "Name: state, dtype: int64"
      ]
     },
     "execution_count": 26,
     "metadata": {},
     "output_type": "execute_result"
    }
   ],
   "source": [
    "df.state.value_counts()"
   ]
  },
  {
   "cell_type": "code",
   "execution_count": 27,
   "id": "737af89f-0957-4946-a614-6227c75f2a74",
   "metadata": {},
   "outputs": [
    {
     "data": {
      "text/plain": [
       "21     45\n",
       "22    101\n",
       "23    170\n",
       "24    274\n",
       "25    246\n",
       "26    273\n",
       "27    277\n",
       "28    299\n",
       "29    252\n",
       "30    240\n",
       "31    258\n",
       "32    162\n",
       "33    219\n",
       "34    287\n",
       "35    264\n",
       "36    286\n",
       "37    411\n",
       "38    300\n",
       "39     85\n",
       "40    138\n",
       "41    149\n",
       "42    324\n",
       "43    414\n",
       "44    490\n",
       "45    914\n",
       "46    680\n",
       "47    469\n",
       "48    449\n",
       "49    566\n",
       "50    370\n",
       "51    227\n",
       "52    233\n",
       "53    213\n",
       "54    226\n",
       "55    259\n",
       "56    307\n",
       "57    234\n",
       "58    263\n",
       "59    306\n",
       "60    226\n",
       "61    196\n",
       "62    203\n",
       "63    219\n",
       "64    354\n",
       "65    174\n",
       "66    176\n",
       "67    231\n",
       "68    179\n",
       "69    176\n",
       "70     77\n",
       "79      5\n",
       "80      7\n",
       "88      5\n",
       "92     10\n",
       "Name: Age, dtype: int64"
      ]
     },
     "execution_count": 27,
     "metadata": {},
     "output_type": "execute_result"
    }
   ],
   "source": [
    "df.Age.value_counts().sort_index()"
   ]
  },
  {
   "cell_type": "code",
   "execution_count": 28,
   "id": "f7704976-7ad0-4804-94ec-b09132fc1e33",
   "metadata": {},
   "outputs": [],
   "source": [
    "age_bins = [20,30,40,50,60,70,80,90,100]\n",
    "Age_category = pd.cut(df['Age'], bins = age_bins, right = True)\n",
    "df.insert(4,'Age_category',Age_category)"
   ]
  },
  {
   "cell_type": "code",
   "execution_count": 29,
   "id": "b21c38b3-d4e0-4177-9616-6127edd85892",
   "metadata": {},
   "outputs": [
    {
     "data": {
      "text/plain": [
       "(20, 30]     2177\n",
       "(30, 40]     2410\n",
       "(40, 50]     4825\n",
       "(50, 60]     2494\n",
       "(60, 70]     1985\n",
       "(70, 80]       12\n",
       "(80, 90]        5\n",
       "(90, 100]      10\n",
       "Name: Age_category, dtype: int64"
      ]
     },
     "execution_count": 29,
     "metadata": {},
     "output_type": "execute_result"
    }
   ],
   "source": [
    "df.Age_category.value_counts().sort_index()"
   ]
  },
  {
   "cell_type": "code",
   "execution_count": 30,
   "id": "63579c7c-1580-4a5b-a47d-3448f3c31c25",
   "metadata": {},
   "outputs": [
    {
     "data": {
      "text/plain": [
       "N    13910\n",
       "Y        8\n",
       "Name: deceased_indicator, dtype: int64"
      ]
     },
     "execution_count": 30,
     "metadata": {},
     "output_type": "execute_result"
    }
   ],
   "source": [
    "df.deceased_indicator.value_counts()"
   ]
  },
  {
   "cell_type": "code",
   "execution_count": 31,
   "id": "590adfd6-0b4e-47cd-8a71-87455a9c4d6a",
   "metadata": {},
   "outputs": [],
   "source": [
    "df = df[df.deceased_indicator != 'Y']"
   ]
  },
  {
   "cell_type": "code",
   "execution_count": 32,
   "id": "5fecfad5-4ce5-46f9-9950-9e9e07c74058",
   "metadata": {},
   "outputs": [
    {
     "data": {
      "text/plain": [
       "N    13910\n",
       "Name: deceased_indicator, dtype: int64"
      ]
     },
     "execution_count": 32,
     "metadata": {},
     "output_type": "execute_result"
    }
   ],
   "source": [
    "df.deceased_indicator.value_counts()"
   ]
  },
  {
   "cell_type": "code",
   "execution_count": 33,
   "id": "3bd19bd3-7ce3-466c-b554-f2ad8f9b19c2",
   "metadata": {},
   "outputs": [
    {
     "data": {
      "text/plain": [
       "NSW    7355\n",
       "VIC    3475\n",
       "QLD    3080\n",
       "Name: state, dtype: int64"
      ]
     },
     "execution_count": 33,
     "metadata": {},
     "output_type": "execute_result"
    }
   ],
   "source": [
    "df.state.value_counts()"
   ]
  },
  {
   "cell_type": "code",
   "execution_count": 34,
   "id": "004f5421-275d-4302-9a73-82d7501be6e1",
   "metadata": {},
   "outputs": [
    {
     "data": {
      "text/plain": [
       "count    13910.000000\n",
       "mean       181.804673\n",
       "std        105.648144\n",
       "min          0.000000\n",
       "25%         89.000000\n",
       "50%        181.000000\n",
       "75%        274.000000\n",
       "max        363.000000\n",
       "Name: recency, dtype: float64"
      ]
     },
     "execution_count": 34,
     "metadata": {},
     "output_type": "execute_result"
    }
   ],
   "source": [
    "df.recency.describe()"
   ]
  },
  {
   "cell_type": "code",
   "execution_count": 35,
   "id": "bf5a8bf0-cec3-4810-a15b-2265083f7f86",
   "metadata": {},
   "outputs": [],
   "source": [
    "df['R_Score'] = pd.qcut(df.recency, q = 5 , labels = False)\n",
    "\n",
    "# The 'q' parameter in pd.qcut determines the number of quantiles to use (5 in this case).\n",
    "# The 'labels=False' parameter assigns numeric labels to the quantiles (0 to 4)."
   ]
  },
  {
   "cell_type": "code",
   "execution_count": 36,
   "id": "98272337-54d4-4464-950a-774b5d3a3a5a",
   "metadata": {},
   "outputs": [
    {
     "data": {
      "text/plain": [
       "0    2798\n",
       "1    2776\n",
       "2    2794\n",
       "3    2770\n",
       "4    2772\n",
       "Name: R_Score, dtype: int64"
      ]
     },
     "execution_count": 36,
     "metadata": {},
     "output_type": "execute_result"
    }
   ],
   "source": [
    "df.R_Score.value_counts().sort_index()"
   ]
  },
  {
   "cell_type": "code",
   "execution_count": 37,
   "id": "4e92f9f6-c37d-4fc4-ab0b-8e5791f9cbaf",
   "metadata": {},
   "outputs": [],
   "source": [
    "# This code groups the DataFrame by the 'Product_ID' column and calculates the count of each product ID.\n",
    "df ['count_product_id'] = df.groupby('product_id')['product_id'].transform('count')\n",
    "\n",
    "# The resulting counts are assigned as the F scores for each records\n",
    "df['F_Score'] = pd.qcut(df.count_product_id, q = 5 , labels = False)"
   ]
  },
  {
   "cell_type": "code",
   "execution_count": 38,
   "id": "8ca412e8-5003-41e4-b645-051fe5672c8c",
   "metadata": {},
   "outputs": [],
   "source": [
    "df['M_score'] = pd.qcut(df.Profit, q = 5, labels = False, duplicates='drop')\n",
    "\n",
    "# This code uses the `qcut` function from the pandas library to calculate the quantiles of the 'Profit' column.\n",
    "# The `q` parameter specifies the number of quantiles to create (in this case, 5).\n",
    "# The resulting quantiles are then converted to numeric labels using the `labels=False` argument.\n",
    "# The `duplicates='drop'` argument is used to drop any duplicate quantile values."
   ]
  },
  {
   "cell_type": "code",
   "execution_count": 39,
   "id": "ef72ea68-99bc-42d7-8684-c453d4a1ac57",
   "metadata": {},
   "outputs": [
    {
     "data": {
      "text/plain": [
       "0    2803\n",
       "1    2839\n",
       "2    2736\n",
       "3    2815\n",
       "4    2717\n",
       "Name: M_score, dtype: int64"
      ]
     },
     "execution_count": 39,
     "metadata": {},
     "output_type": "execute_result"
    }
   ],
   "source": [
    "df.M_score.value_counts().sort_index()"
   ]
  },
  {
   "cell_type": "code",
   "execution_count": 40,
   "id": "3cb2e233-8282-430c-8115-45d5a0f01a54",
   "metadata": {},
   "outputs": [],
   "source": [
    "df['RFM_Score'] = 100*df.R_Score+10*df.F_Score+df.M_score"
   ]
  },
  {
   "cell_type": "code",
   "execution_count": 41,
   "id": "1b1b4614-1ad4-41d4-9548-44004a0eea0e",
   "metadata": {},
   "outputs": [
    {
     "data": {
      "text/plain": [
       "count    13910.000000\n",
       "mean       220.644428\n",
       "std        141.843803\n",
       "min          0.000000\n",
       "25%        110.000000\n",
       "50%        221.000000\n",
       "75%        332.000000\n",
       "max        444.000000\n",
       "Name: RFM_Score, dtype: float64"
      ]
     },
     "execution_count": 41,
     "metadata": {},
     "output_type": "execute_result"
    }
   ],
   "source": [
    "df.RFM_Score.describe()"
   ]
  },
  {
   "cell_type": "code",
   "execution_count": 42,
   "id": "af756425-6060-4e08-8e83-8d0499cebef2",
   "metadata": {},
   "outputs": [],
   "source": [
    "# assign customer titles (Bronze, Silver, Gold, Platinum) based on the RFM scores\n",
    "# IFS(H4>411,\"Platinum\",AND(H4<=411,H4>311),\"Gold\",AND(H4<=311,H4>144),\"Silver\",H4<=144,\"Bronze\")\n",
    "def assign_customer_title(score):\n",
    "    if score >= 411:\n",
    "        return 'Platinum'\n",
    "    elif score <= 411 and score > 332:\n",
    "        return \"Gold\"\n",
    "    elif score <= 332 and score >= 221:\n",
    "        return \"Silver\"\n",
    "    else:\n",
    "        return \"Bronze\"\n",
    "    \n",
    "df ['Customer_Title'] = df.RFM_Score.apply(assign_customer_title)"
   ]
  },
  {
   "cell_type": "code",
   "execution_count": 43,
   "id": "6acc4252-921a-42e3-b40f-1b5c400e420a",
   "metadata": {},
   "outputs": [
    {
     "data": {
      "text/plain": [
       "Bronze      6885\n",
       "Gold        1473\n",
       "Platinum    1968\n",
       "Silver      3584\n",
       "Name: Customer_Title, dtype: int64"
      ]
     },
     "execution_count": 43,
     "metadata": {},
     "output_type": "execute_result"
    }
   ],
   "source": [
    "df.Customer_Title.value_counts().sort_index()"
   ]
  },
  {
   "cell_type": "code",
   "execution_count": 45,
   "id": "5151c862-ec65-47d0-8ad1-2171b7ef0a3e",
   "metadata": {},
   "outputs": [],
   "source": [
    "def assign_customer_title(score):\n",
    "    if score == 444:\n",
    "        return 'Platinum Customer'\n",
    "    elif score < 444 and score >= 433:\n",
    "        return 'Very Loyal'\n",
    "    elif score < 433 and score >= 421:\n",
    "        return 'Becoming Loyal'\n",
    "    elif score < 421 and score >= 344:\n",
    "        return 'Recent Customer'\n",
    "    elif score < 344 and score >= 323:\n",
    "        return 'Potential Customer'\n",
    "    elif score < 323 and score >= 311:\n",
    "        return 'Late Bloomer'\n",
    "    elif score < 311 and score >= 224:\n",
    "        return 'Losing Customer'\n",
    "    elif score < 224 and score >= 212:\n",
    "        return 'High Risk Customer'\n",
    "    elif score < 212 and score >= 124:\n",
    "        return 'Almost Lost Customer'\n",
    "    elif score < 124 and score >= 112:\n",
    "        return 'Evasive Customer'\n",
    "    elif score < 111 and score >= 90:\n",
    "        return 'Lost Customer'\n",
    "    else:\n",
    "        return 'Customer Left'\n",
    "    \n",
    "df['New_Customer_Title'] = df['RFM_Score'].apply(assign_customer_title)"
   ]
  },
  {
   "cell_type": "code",
   "execution_count": 46,
   "id": "1b5cf45a-0020-4255-856a-964fba1116b3",
   "metadata": {},
   "outputs": [
    {
     "data": {
      "text/plain": [
       "Almost Lost Customer    1968\n",
       "Becoming Loyal           820\n",
       "Customer Left           2902\n",
       "Evasive Customer         826\n",
       "High Risk Customer       773\n",
       "Late Bloomer             669\n",
       "Losing Customer         1951\n",
       "Lost Customer            763\n",
       "Platinum Customer         79\n",
       "Potential Customer      1207\n",
       "Recent Customer         1374\n",
       "Very Loyal               578\n",
       "Name: New_Customer_Title, dtype: int64"
      ]
     },
     "execution_count": 46,
     "metadata": {},
     "output_type": "execute_result"
    }
   ],
   "source": [
    "df.New_Customer_Title.value_counts().sort_index()"
   ]
  },
  {
   "cell_type": "code",
   "execution_count": 47,
   "id": "c2cd7832-fcf1-49f1-bdce-95b0b4029a46",
   "metadata": {},
   "outputs": [],
   "source": [
    "df1 = df.copy()"
   ]
  },
  {
   "cell_type": "code",
   "execution_count": 48,
   "id": "83d6d108-d74d-48b1-a12f-4768369aca53",
   "metadata": {},
   "outputs": [
    {
     "data": {
      "text/html": [
       "<div>\n",
       "<style scoped>\n",
       "    .dataframe tbody tr th:only-of-type {\n",
       "        vertical-align: middle;\n",
       "    }\n",
       "\n",
       "    .dataframe tbody tr th {\n",
       "        vertical-align: top;\n",
       "    }\n",
       "\n",
       "    .dataframe thead th {\n",
       "        text-align: right;\n",
       "    }\n",
       "</style>\n",
       "<table border=\"1\" class=\"dataframe\">\n",
       "  <thead>\n",
       "    <tr style=\"text-align: right;\">\n",
       "      <th></th>\n",
       "      <th>0</th>\n",
       "      <th>1</th>\n",
       "      <th>2</th>\n",
       "      <th>3</th>\n",
       "      <th>4</th>\n",
       "    </tr>\n",
       "  </thead>\n",
       "  <tbody>\n",
       "    <tr>\n",
       "      <th>customer_id</th>\n",
       "      <td>1</td>\n",
       "      <td>1</td>\n",
       "      <td>1</td>\n",
       "      <td>1</td>\n",
       "      <td>1</td>\n",
       "    </tr>\n",
       "    <tr>\n",
       "      <th>gender</th>\n",
       "      <td>Female</td>\n",
       "      <td>Female</td>\n",
       "      <td>Female</td>\n",
       "      <td>Female</td>\n",
       "      <td>Female</td>\n",
       "    </tr>\n",
       "    <tr>\n",
       "      <th>past_3_years_bike_related_purchases</th>\n",
       "      <td>93.0</td>\n",
       "      <td>93.0</td>\n",
       "      <td>93.0</td>\n",
       "      <td>93.0</td>\n",
       "      <td>93.0</td>\n",
       "    </tr>\n",
       "    <tr>\n",
       "      <th>Age</th>\n",
       "      <td>70</td>\n",
       "      <td>70</td>\n",
       "      <td>70</td>\n",
       "      <td>70</td>\n",
       "      <td>70</td>\n",
       "    </tr>\n",
       "    <tr>\n",
       "      <th>Age_category</th>\n",
       "      <td>(60, 70]</td>\n",
       "      <td>(60, 70]</td>\n",
       "      <td>(60, 70]</td>\n",
       "      <td>(60, 70]</td>\n",
       "      <td>(60, 70]</td>\n",
       "    </tr>\n",
       "    <tr>\n",
       "      <th>job_title</th>\n",
       "      <td>Executive Secretary</td>\n",
       "      <td>Executive Secretary</td>\n",
       "      <td>Executive Secretary</td>\n",
       "      <td>Executive Secretary</td>\n",
       "      <td>Executive Secretary</td>\n",
       "    </tr>\n",
       "    <tr>\n",
       "      <th>job_industry_category</th>\n",
       "      <td>Health</td>\n",
       "      <td>Health</td>\n",
       "      <td>Health</td>\n",
       "      <td>Health</td>\n",
       "      <td>Health</td>\n",
       "    </tr>\n",
       "    <tr>\n",
       "      <th>wealth_segment</th>\n",
       "      <td>Mass Customer</td>\n",
       "      <td>Mass Customer</td>\n",
       "      <td>Mass Customer</td>\n",
       "      <td>Mass Customer</td>\n",
       "      <td>Mass Customer</td>\n",
       "    </tr>\n",
       "    <tr>\n",
       "      <th>deceased_indicator</th>\n",
       "      <td>N</td>\n",
       "      <td>N</td>\n",
       "      <td>N</td>\n",
       "      <td>N</td>\n",
       "      <td>N</td>\n",
       "    </tr>\n",
       "    <tr>\n",
       "      <th>owns_car</th>\n",
       "      <td>Yes</td>\n",
       "      <td>Yes</td>\n",
       "      <td>Yes</td>\n",
       "      <td>Yes</td>\n",
       "      <td>Yes</td>\n",
       "    </tr>\n",
       "    <tr>\n",
       "      <th>tenure</th>\n",
       "      <td>11.0</td>\n",
       "      <td>11.0</td>\n",
       "      <td>11.0</td>\n",
       "      <td>11.0</td>\n",
       "      <td>11.0</td>\n",
       "    </tr>\n",
       "    <tr>\n",
       "      <th>transaction_id</th>\n",
       "      <td>94.0</td>\n",
       "      <td>3765.0</td>\n",
       "      <td>5157.0</td>\n",
       "      <td>9785.0</td>\n",
       "      <td>13424.0</td>\n",
       "    </tr>\n",
       "    <tr>\n",
       "      <th>product_id</th>\n",
       "      <td>86.0</td>\n",
       "      <td>38.0</td>\n",
       "      <td>47.0</td>\n",
       "      <td>72.0</td>\n",
       "      <td>2.0</td>\n",
       "    </tr>\n",
       "    <tr>\n",
       "      <th>recency</th>\n",
       "      <td>7</td>\n",
       "      <td>268</td>\n",
       "      <td>233</td>\n",
       "      <td>359</td>\n",
       "      <td>312</td>\n",
       "    </tr>\n",
       "    <tr>\n",
       "      <th>transaction_date</th>\n",
       "      <td>2017-12-23</td>\n",
       "      <td>2017-04-06</td>\n",
       "      <td>2017-05-11</td>\n",
       "      <td>2017-01-05</td>\n",
       "      <td>2017-02-21</td>\n",
       "    </tr>\n",
       "    <tr>\n",
       "      <th>transaction_month</th>\n",
       "      <td>December</td>\n",
       "      <td>April</td>\n",
       "      <td>May</td>\n",
       "      <td>January</td>\n",
       "      <td>February</td>\n",
       "    </tr>\n",
       "    <tr>\n",
       "      <th>online_order</th>\n",
       "      <td>0.0</td>\n",
       "      <td>1.0</td>\n",
       "      <td>1.0</td>\n",
       "      <td>0.0</td>\n",
       "      <td>0.0</td>\n",
       "    </tr>\n",
       "    <tr>\n",
       "      <th>order_status</th>\n",
       "      <td>Approved</td>\n",
       "      <td>Approved</td>\n",
       "      <td>Approved</td>\n",
       "      <td>Approved</td>\n",
       "      <td>Approved</td>\n",
       "    </tr>\n",
       "    <tr>\n",
       "      <th>brand</th>\n",
       "      <td>OHM Cycles</td>\n",
       "      <td>Solex</td>\n",
       "      <td>Trek Bicycles</td>\n",
       "      <td>Norco Bicycles</td>\n",
       "      <td>Solex</td>\n",
       "    </tr>\n",
       "    <tr>\n",
       "      <th>product_line</th>\n",
       "      <td>Standard</td>\n",
       "      <td>Standard</td>\n",
       "      <td>Road</td>\n",
       "      <td>Standard</td>\n",
       "      <td>Standard</td>\n",
       "    </tr>\n",
       "    <tr>\n",
       "      <th>product_class</th>\n",
       "      <td>medium</td>\n",
       "      <td>medium</td>\n",
       "      <td>low</td>\n",
       "      <td>medium</td>\n",
       "      <td>medium</td>\n",
       "    </tr>\n",
       "    <tr>\n",
       "      <th>product_size</th>\n",
       "      <td>medium</td>\n",
       "      <td>medium</td>\n",
       "      <td>small</td>\n",
       "      <td>medium</td>\n",
       "      <td>medium</td>\n",
       "    </tr>\n",
       "    <tr>\n",
       "      <th>list_price</th>\n",
       "      <td>235.63</td>\n",
       "      <td>1577.53</td>\n",
       "      <td>1720.7</td>\n",
       "      <td>360.4</td>\n",
       "      <td>71.49</td>\n",
       "    </tr>\n",
       "    <tr>\n",
       "      <th>standard_cost</th>\n",
       "      <td>125.07</td>\n",
       "      <td>826.51</td>\n",
       "      <td>1531.42</td>\n",
       "      <td>270.3</td>\n",
       "      <td>53.62</td>\n",
       "    </tr>\n",
       "    <tr>\n",
       "      <th>Profit</th>\n",
       "      <td>110.56</td>\n",
       "      <td>751.02</td>\n",
       "      <td>189.28</td>\n",
       "      <td>90.1</td>\n",
       "      <td>17.87</td>\n",
       "    </tr>\n",
       "    <tr>\n",
       "      <th>product_first_sold_date</th>\n",
       "      <td>1970-01-01</td>\n",
       "      <td>1970-01-01</td>\n",
       "      <td>1970-01-01</td>\n",
       "      <td>1970-01-01</td>\n",
       "      <td>1970-01-01</td>\n",
       "    </tr>\n",
       "    <tr>\n",
       "      <th>address</th>\n",
       "      <td>060 Morning Avenue</td>\n",
       "      <td>060 Morning Avenue</td>\n",
       "      <td>060 Morning Avenue</td>\n",
       "      <td>060 Morning Avenue</td>\n",
       "      <td>060 Morning Avenue</td>\n",
       "    </tr>\n",
       "    <tr>\n",
       "      <th>postcode</th>\n",
       "      <td>2016.0</td>\n",
       "      <td>2016.0</td>\n",
       "      <td>2016.0</td>\n",
       "      <td>2016.0</td>\n",
       "      <td>2016.0</td>\n",
       "    </tr>\n",
       "    <tr>\n",
       "      <th>state</th>\n",
       "      <td>NSW</td>\n",
       "      <td>NSW</td>\n",
       "      <td>NSW</td>\n",
       "      <td>NSW</td>\n",
       "      <td>NSW</td>\n",
       "    </tr>\n",
       "    <tr>\n",
       "      <th>country</th>\n",
       "      <td>Australia</td>\n",
       "      <td>Australia</td>\n",
       "      <td>Australia</td>\n",
       "      <td>Australia</td>\n",
       "      <td>Australia</td>\n",
       "    </tr>\n",
       "    <tr>\n",
       "      <th>property_valuation</th>\n",
       "      <td>10.0</td>\n",
       "      <td>10.0</td>\n",
       "      <td>10.0</td>\n",
       "      <td>10.0</td>\n",
       "      <td>10.0</td>\n",
       "    </tr>\n",
       "    <tr>\n",
       "      <th>R_Score</th>\n",
       "      <td>0</td>\n",
       "      <td>3</td>\n",
       "      <td>3</td>\n",
       "      <td>4</td>\n",
       "      <td>4</td>\n",
       "    </tr>\n",
       "    <tr>\n",
       "      <th>count_product_id</th>\n",
       "      <td>128</td>\n",
       "      <td>198</td>\n",
       "      <td>89</td>\n",
       "      <td>137</td>\n",
       "      <td>175</td>\n",
       "    </tr>\n",
       "    <tr>\n",
       "      <th>F_Score</th>\n",
       "      <td>1</td>\n",
       "      <td>4</td>\n",
       "      <td>0</td>\n",
       "      <td>2</td>\n",
       "      <td>4</td>\n",
       "    </tr>\n",
       "    <tr>\n",
       "      <th>M_score</th>\n",
       "      <td>0</td>\n",
       "      <td>3</td>\n",
       "      <td>1</td>\n",
       "      <td>0</td>\n",
       "      <td>0</td>\n",
       "    </tr>\n",
       "    <tr>\n",
       "      <th>RFM_Score</th>\n",
       "      <td>10</td>\n",
       "      <td>343</td>\n",
       "      <td>301</td>\n",
       "      <td>420</td>\n",
       "      <td>440</td>\n",
       "    </tr>\n",
       "    <tr>\n",
       "      <th>Customer_Title</th>\n",
       "      <td>Bronze</td>\n",
       "      <td>Gold</td>\n",
       "      <td>Silver</td>\n",
       "      <td>Platinum</td>\n",
       "      <td>Platinum</td>\n",
       "    </tr>\n",
       "    <tr>\n",
       "      <th>New_Customer_Title</th>\n",
       "      <td>Customer Left</td>\n",
       "      <td>Potential Customer</td>\n",
       "      <td>Losing Customer</td>\n",
       "      <td>Recent Customer</td>\n",
       "      <td>Very Loyal</td>\n",
       "    </tr>\n",
       "  </tbody>\n",
       "</table>\n",
       "</div>"
      ],
      "text/plain": [
       "                                                       0                    1  \\\n",
       "customer_id                                            1                    1   \n",
       "gender                                            Female               Female   \n",
       "past_3_years_bike_related_purchases                 93.0                 93.0   \n",
       "Age                                                   70                   70   \n",
       "Age_category                                    (60, 70]             (60, 70]   \n",
       "job_title                            Executive Secretary  Executive Secretary   \n",
       "job_industry_category                             Health               Health   \n",
       "wealth_segment                             Mass Customer        Mass Customer   \n",
       "deceased_indicator                                     N                    N   \n",
       "owns_car                                             Yes                  Yes   \n",
       "tenure                                              11.0                 11.0   \n",
       "transaction_id                                      94.0               3765.0   \n",
       "product_id                                          86.0                 38.0   \n",
       "recency                                                7                  268   \n",
       "transaction_date                              2017-12-23           2017-04-06   \n",
       "transaction_month                               December                April   \n",
       "online_order                                         0.0                  1.0   \n",
       "order_status                                    Approved             Approved   \n",
       "brand                                         OHM Cycles                Solex   \n",
       "product_line                                    Standard             Standard   \n",
       "product_class                                     medium               medium   \n",
       "product_size                                      medium               medium   \n",
       "list_price                                        235.63              1577.53   \n",
       "standard_cost                                     125.07               826.51   \n",
       "Profit                                            110.56               751.02   \n",
       "product_first_sold_date                       1970-01-01           1970-01-01   \n",
       "address                               060 Morning Avenue   060 Morning Avenue   \n",
       "postcode                                          2016.0               2016.0   \n",
       "state                                                NSW                  NSW   \n",
       "country                                        Australia            Australia   \n",
       "property_valuation                                  10.0                 10.0   \n",
       "R_Score                                                0                    3   \n",
       "count_product_id                                     128                  198   \n",
       "F_Score                                                1                    4   \n",
       "M_score                                                0                    3   \n",
       "RFM_Score                                             10                  343   \n",
       "Customer_Title                                    Bronze                 Gold   \n",
       "New_Customer_Title                         Customer Left   Potential Customer   \n",
       "\n",
       "                                                       2                    3  \\\n",
       "customer_id                                            1                    1   \n",
       "gender                                            Female               Female   \n",
       "past_3_years_bike_related_purchases                 93.0                 93.0   \n",
       "Age                                                   70                   70   \n",
       "Age_category                                    (60, 70]             (60, 70]   \n",
       "job_title                            Executive Secretary  Executive Secretary   \n",
       "job_industry_category                             Health               Health   \n",
       "wealth_segment                             Mass Customer        Mass Customer   \n",
       "deceased_indicator                                     N                    N   \n",
       "owns_car                                             Yes                  Yes   \n",
       "tenure                                              11.0                 11.0   \n",
       "transaction_id                                    5157.0               9785.0   \n",
       "product_id                                          47.0                 72.0   \n",
       "recency                                              233                  359   \n",
       "transaction_date                              2017-05-11           2017-01-05   \n",
       "transaction_month                                    May              January   \n",
       "online_order                                         1.0                  0.0   \n",
       "order_status                                    Approved             Approved   \n",
       "brand                                      Trek Bicycles       Norco Bicycles   \n",
       "product_line                                        Road             Standard   \n",
       "product_class                                        low               medium   \n",
       "product_size                                       small               medium   \n",
       "list_price                                        1720.7                360.4   \n",
       "standard_cost                                    1531.42                270.3   \n",
       "Profit                                            189.28                 90.1   \n",
       "product_first_sold_date                       1970-01-01           1970-01-01   \n",
       "address                               060 Morning Avenue   060 Morning Avenue   \n",
       "postcode                                          2016.0               2016.0   \n",
       "state                                                NSW                  NSW   \n",
       "country                                        Australia            Australia   \n",
       "property_valuation                                  10.0                 10.0   \n",
       "R_Score                                                3                    4   \n",
       "count_product_id                                      89                  137   \n",
       "F_Score                                                0                    2   \n",
       "M_score                                                1                    0   \n",
       "RFM_Score                                            301                  420   \n",
       "Customer_Title                                    Silver             Platinum   \n",
       "New_Customer_Title                       Losing Customer      Recent Customer   \n",
       "\n",
       "                                                       4  \n",
       "customer_id                                            1  \n",
       "gender                                            Female  \n",
       "past_3_years_bike_related_purchases                 93.0  \n",
       "Age                                                   70  \n",
       "Age_category                                    (60, 70]  \n",
       "job_title                            Executive Secretary  \n",
       "job_industry_category                             Health  \n",
       "wealth_segment                             Mass Customer  \n",
       "deceased_indicator                                     N  \n",
       "owns_car                                             Yes  \n",
       "tenure                                              11.0  \n",
       "transaction_id                                   13424.0  \n",
       "product_id                                           2.0  \n",
       "recency                                              312  \n",
       "transaction_date                              2017-02-21  \n",
       "transaction_month                               February  \n",
       "online_order                                         0.0  \n",
       "order_status                                    Approved  \n",
       "brand                                              Solex  \n",
       "product_line                                    Standard  \n",
       "product_class                                     medium  \n",
       "product_size                                      medium  \n",
       "list_price                                         71.49  \n",
       "standard_cost                                      53.62  \n",
       "Profit                                             17.87  \n",
       "product_first_sold_date                       1970-01-01  \n",
       "address                               060 Morning Avenue  \n",
       "postcode                                          2016.0  \n",
       "state                                                NSW  \n",
       "country                                        Australia  \n",
       "property_valuation                                  10.0  \n",
       "R_Score                                                4  \n",
       "count_product_id                                     175  \n",
       "F_Score                                                4  \n",
       "M_score                                                0  \n",
       "RFM_Score                                            440  \n",
       "Customer_Title                                  Platinum  \n",
       "New_Customer_Title                            Very Loyal  "
      ]
     },
     "execution_count": 48,
     "metadata": {},
     "output_type": "execute_result"
    }
   ],
   "source": [
    "df1.head(5).transpose()"
   ]
  },
  {
   "cell_type": "code",
   "execution_count": 49,
   "id": "b7ff20da-841c-4764-bd2c-ed805dee7561",
   "metadata": {},
   "outputs": [
    {
     "data": {
      "text/plain": [
       "(13910, 38)"
      ]
     },
     "execution_count": 49,
     "metadata": {},
     "output_type": "execute_result"
    }
   ],
   "source": [
    "df1.shape"
   ]
  },
  {
   "cell_type": "code",
   "execution_count": 50,
   "id": "353279e0-bd3f-4133-9db4-238a59f640cf",
   "metadata": {},
   "outputs": [],
   "source": [
    "df.to_excel(\"merge_clean_data.xlsx\", index=False)"
   ]
  },
  {
   "cell_type": "code",
   "execution_count": null,
   "id": "e8060295-f971-48c1-8e80-12cd57e17e06",
   "metadata": {},
   "outputs": [],
   "source": []
  }
 ],
 "metadata": {
  "kernelspec": {
   "display_name": "Python 3 (ipykernel)",
   "language": "python",
   "name": "python3"
  },
  "language_info": {
   "codemirror_mode": {
    "name": "ipython",
    "version": 3
   },
   "file_extension": ".py",
   "mimetype": "text/x-python",
   "name": "python",
   "nbconvert_exporter": "python",
   "pygments_lexer": "ipython3",
   "version": "3.9.13"
  }
 },
 "nbformat": 4,
 "nbformat_minor": 5
}
